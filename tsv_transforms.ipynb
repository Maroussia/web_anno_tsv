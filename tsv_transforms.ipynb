{
 "cells": [
  {
   "cell_type": "code",
   "execution_count": 1,
   "id": "1cebb74e",
   "metadata": {},
   "outputs": [],
   "source": [
    "from web_anno_tsv import open_web_anno_tsv"
   ]
  },
  {
   "cell_type": "code",
   "execution_count": 3,
   "id": "e8b32413",
   "metadata": {},
   "outputs": [],
   "source": [
    "import os"
   ]
  },
  {
   "cell_type": "code",
   "execution_count": 4,
   "id": "281ff8c3",
   "metadata": {},
   "outputs": [],
   "source": [
    "folder = f\"{os.path.expanduser('~')}/nlu/project/texts/snd/\"\n",
    "file = os.path.join(folder, '0179MalikIbnAnas.Muwatta.IbnZayd.ShamAY0033922_manual-SND.tsv')"
   ]
  },
  {
   "cell_type": "code",
   "execution_count": null,
   "id": "14e58b23",
   "metadata": {},
   "outputs": [],
   "source": [
    "with open_web_anno_tsv(tsv1) as f:\n",
    "    for i, sentence in enumerate(f):\n",
    "        print(f\"Sentence {i}:\", sentence.text)\n",
    "        for j, annotation in enumerate(sentence.annotations):\n",
    "            print(f'\\tAnnotation {j}:')\n",
    "            print('\\t\\tText:', annotation.text)\n",
    "            print(\"\\t\\tLabel:\", annotation.label)\n",
    "            print(\"\\t\\tOffsets\", f\"{annotation.start}, {annotation.stop}\")"
   ]
  },
  {
   "cell_type": "code",
   "execution_count": null,
   "id": "f94cb7e8",
   "metadata": {},
   "outputs": [],
   "source": []
  },
  {
   "cell_type": "code",
   "execution_count": null,
   "id": "c9e39f7f",
   "metadata": {},
   "outputs": [],
   "source": []
  }
 ],
 "metadata": {
  "kernelspec": {
   "display_name": "Python 3 (ipykernel)",
   "language": "python",
   "name": "python3"
  },
  "language_info": {
   "codemirror_mode": {
    "name": "ipython",
    "version": 3
   },
   "file_extension": ".py",
   "mimetype": "text/x-python",
   "name": "python",
   "nbconvert_exporter": "python",
   "pygments_lexer": "ipython3",
   "version": "3.8.12"
  }
 },
 "nbformat": 4,
 "nbformat_minor": 5
}
