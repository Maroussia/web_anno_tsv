{
 "cells": [
  {
   "cell_type": "code",
   "execution_count": 2,
   "id": "b07edba9",
   "metadata": {},
   "outputs": [],
   "source": [
    "import os\n",
    "import re\n",
    "import pandas as pd"
   ]
  },
  {
   "cell_type": "code",
   "execution_count": 3,
   "id": "2927a0fe",
   "metadata": {},
   "outputs": [],
   "source": [
    "folder = f\"{os.path.expanduser('~')}/nlu/project/texts/snd/\""
   ]
  },
  {
   "cell_type": "code",
   "execution_count": 4,
   "id": "a150fc09",
   "metadata": {},
   "outputs": [],
   "source": [
    "file_tsv = os.path.join(folder,\n",
    "                   '0179MalikIbnAnas.Muwatta.IbnZayd.ShamAY0033922_manual-SND.tsv')"
   ]
  },
  {
   "cell_type": "code",
   "execution_count": 5,
   "id": "bdaf03eb",
   "metadata": {},
   "outputs": [],
   "source": [
    "file_conll = os.path.join(folder,\n",
    "                   '0179MalikIbnAnas.Muwatta.IbnZayd.ShamAY0033922_manual-SND.conll')"
   ]
  },
  {
   "cell_type": "code",
   "execution_count": 109,
   "id": "d1dee2b6",
   "metadata": {},
   "outputs": [],
   "source": [
    "manual_snd = f\"{os.path.expanduser('~')}/nlu/project/texts/snd/manual_snd/\""
   ]
  },
  {
   "cell_type": "code",
   "execution_count": 51,
   "id": "935c522f",
   "metadata": {},
   "outputs": [],
   "source": [
    "for file in os.listdir(folder):\n",
    "    if file.endswith('.tsv'):\n",
    "        \n",
    "        token_label = []\n",
    "        \n",
    "        with open(os.path.join(folder, file), 'r') as f:\n",
    "            tsv = f.read()\n",
    "            \n",
    "            for idx, lines in enumerate(tsv.split('\\n')):\n",
    "                \n",
    "                if not lines.startswith('#') and len(lines) > 0:\n",
    "                    span_t, span_chr, token, label, _ = tuple(lines.split('\\t'))\n",
    "                    \n",
    "                    token_label.append(token + ' ' + label[0] + '\\n')\n",
    "            \n",
    "             with open(os.path.join(folder, file[:-4] + '.conll'), 'w') as out:\n",
    "                    out.writelines(token_label)\n",
    "            \n",
    "            "
   ]
  },
  {
   "cell_type": "code",
   "execution_count": 111,
   "id": "c7d42d9a",
   "metadata": {},
   "outputs": [],
   "source": [
    "def df_to_conll(df, filename, directory):\n",
    "    df.to_csv(os.path.join(directory, filename),\n",
    "              sep='\\t', header=False, index=False)"
   ]
  },
  {
   "cell_type": "code",
   "execution_count": 88,
   "id": "f76d8c16",
   "metadata": {},
   "outputs": [],
   "source": [
    "df_to_conll(df, 'TRIAL.conll', folder)x"
   ]
  },
  {
   "cell_type": "code",
   "execution_count": 113,
   "id": "6dd4fe01",
   "metadata": {},
   "outputs": [],
   "source": [
    "def clean_conll(path_to_file):\n",
    "    \n",
    "    df = pd.read_csv(path_to_file, sep=' ', header=None)\n",
    "    df.columns = ['tokens', 'labels']\n",
    "    \n",
    "    for idx, row in df.iterrows():\n",
    "        if df.at[idx, 'labels'] == 'S':\n",
    "            if df.at[idx-1, 'labels'] == '_':\n",
    "                df.at[idx, 'labels'] = 'B'\n",
    "            elif df.at[idx+1, 'labels'] == '_':\n",
    "                 df.at[idx, 'labels'] = 'E'\n",
    "            else:\n",
    "                df.at[idx, 'labels'] = 'I'\n",
    "                \n",
    "    arabicRegex = \"[ذ١٢٣٤٥٦٧٨٩٠ّـضصثقفغعهخحجدًٌَُلإإشسيبلاتنمكطٍِلأأـئءؤرلاىةوزظْلآآ]+|#\"\n",
    "    \n",
    "    df.loc[df.tokens.str.contains(arabicRegex, regex = True)]\n",
    "    \n",
    "    df.loc[df.tokens.str.match('#'), 'labels'] = '#'\n",
    "    \n",
    "    for idx, row in df.iterrows():\n",
    "        if df.at[idx, 'labels'] == '#' and df.at[idx+1, 'labels'] == '#':\n",
    "            df.drop(idx, inplace=True)\n",
    "            \n",
    "    df = df.replace(['#'], ' ')\n",
    "    \n",
    "    return df\n",
    "    "
   ]
  },
  {
   "cell_type": "code",
   "execution_count": 114,
   "id": "a2c97b2e",
   "metadata": {},
   "outputs": [],
   "source": [
    "for file in os.listdir(folder):\n",
    "    if file.endswith('.conll'):\n",
    "        dataframe = clean_conll(os.path.join(folder, file))\n",
    "        \n",
    "        df_to_conll(dataframe, file, manual_snd)"
   ]
  }
 ],
 "metadata": {
  "kernelspec": {
   "display_name": "Python 3 (ipykernel)",
   "language": "python",
   "name": "python3"
  },
  "language_info": {
   "codemirror_mode": {
    "name": "ipython",
    "version": 3
   },
   "file_extension": ".py",
   "mimetype": "text/x-python",
   "name": "python",
   "nbconvert_exporter": "python",
   "pygments_lexer": "ipython3",
   "version": "3.8.12"
  }
 },
 "nbformat": 4,
 "nbformat_minor": 5
}
